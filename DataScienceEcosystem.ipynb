{
  "metadata": {
    "kernelspec": {
      "name": "python",
      "display_name": "Python (Pyodide)",
      "language": "python"
    },
    "language_info": {
      "codemirror_mode": {
        "name": "python",
        "version": 3
      },
      "file_extension": ".py",
      "mimetype": "text/x-python",
      "name": "python",
      "nbconvert_exporter": "python",
      "pygments_lexer": "ipython3",
      "version": "3.8"
    }
  },
  "nbformat_minor": 5,
  "nbformat": 4,
  "cells": [
    {
      "id": "a81d55fd-f729-4071-823c-29dbc344bc16",
      "cell_type": "markdown",
      "source": "# Data Science Tools and Ecosystem",
      "metadata": {}
    },
    {
      "id": "90e740da-b19d-4130-8ea2-480f043881f3",
      "cell_type": "markdown",
      "source": "In this notebook, Data Science Tools and Ecosystem are summarized.",
      "metadata": {}
    },
    {
      "id": "5e567a65-5084-4c10-be8e-ec168274fe51",
      "cell_type": "markdown",
      "source": "**Objectives:**\n- List popular languages for data science\n- List commonly used libraries for data science\n- List data science tools\n- Use Python to evaluate arithmetic expressions",
      "metadata": {}
    },
    {
      "id": "9b76743f-795d-43a8-a1c5-35b45f25472e",
      "cell_type": "markdown",
      "source": "Some of the popular languages that Data Scientists use are: \n1. Python\n2. SQL\n3. R",
      "metadata": {}
    },
    {
      "id": "01f61f84-e9c3-48bf-9831-d88fcdf332a4",
      "cell_type": "markdown",
      "source": "Some of the commonly used libraries used by Data Scientists include:\n1. Pandas\n2. Numpy\n3. Seaborn\n4. Matplotlib\n5. TensorFlow",
      "metadata": {}
    },
    {
      "id": "1f5613d8-0866-403f-8cb7-2728a612709c",
      "cell_type": "markdown",
      "source": "|Data Science Tools|\n|-|\n|Visual Studio Code|\n|Apache Spark|\n|GitLab|",
      "metadata": {}
    },
    {
      "id": "d327b75a-48c7-475f-afad-e659636f94c5",
      "cell_type": "markdown",
      "source": "### Below are a few examples of evaluation arithmetic expressions in Python:",
      "metadata": {}
    },
    {
      "id": "5122aea3-d888-4ad3-b62b-be90ef0b254d",
      "cell_type": "code",
      "source": "# This is a simple arithmetic expression to multiply then add integers\n(3*4)+5",
      "metadata": {
        "trusted": true
      },
      "outputs": [
        {
          "execution_count": 2,
          "output_type": "execute_result",
          "data": {
            "text/plain": "17"
          },
          "metadata": {}
        }
      ],
      "execution_count": 2
    },
    {
      "id": "acba877b-6582-4f81-a600-617471355de7",
      "cell_type": "code",
      "source": "# This will convert 200 minutes to hours by dividing by 60\n200/60",
      "metadata": {
        "trusted": true
      },
      "outputs": [
        {
          "execution_count": 3,
          "output_type": "execute_result",
          "data": {
            "text/plain": "3.3333333333333335"
          },
          "metadata": {}
        }
      ],
      "execution_count": 3
    },
    {
      "id": "6da2b67e-d27d-4e3c-9f27-5325481f81b3",
      "cell_type": "markdown",
      "source": "## Author\nDanyael Murphy",
      "metadata": {}
    }
  ]
}